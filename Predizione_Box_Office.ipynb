{
  "nbformat": 4,
  "nbformat_minor": 0,
  "metadata": {
    "colab": {
      "provenance": [],
      "collapsed_sections": [
        "gLnwKea94uz0"
      ]
    },
    "kernelspec": {
      "name": "python3",
      "display_name": "Python 3"
    },
    "language_info": {
      "name": "python"
    }
  },
  "cells": [
    {
      "cell_type": "markdown",
      "source": [
        "# Previsione incasso al botteghino dei film\n",
        "\n",
        "**Progetto di Programmazione di Applicazioni Data Intensive**  \n",
        "Laurea in Ingegneria e Scienze Informatiche, a.a. 2022/2023\n",
        "\n",
        "DISI - Università di Bologna, Cesena\n",
        "\n",
        "Giosuè Giocondo Mainardi  `giosue.mainardi@studio.unibo.it`"
      ],
      "metadata": {
        "id": "OBBcjUbIo0TI"
      }
    },
    {
      "cell_type": "markdown",
      "source": [
        "## Caricamento Librerie\n",
        "\n",
        "Per prima cosa carichiamo le librerie per effettuare operazioni sui dati\n",
        "\n",
        "* NumPy per creare e operare su array a N dimensioni   \n",
        "* pandas per caricare e manipolare dati tabulari\n",
        "* matplotlib per creare grafici"
      ],
      "metadata": {
        "id": "wcjPL9Zxp6zH"
      }
    },
    {
      "cell_type": "markdown",
      "source": [
        "Lo facciamo usando i loro alias convenzionali e abilitando l'inserimento dei grafici direttamente nel notebook"
      ],
      "metadata": {
        "id": "Z0ZoRA2Dqb1O"
      }
    },
    {
      "cell_type": "code",
      "source": [
        "import numpy as np\n",
        "import pandas as pd\n",
        "import matplotlib.pyplot as plt\n",
        "\n",
        "%matplotlib inline"
      ],
      "metadata": {
        "id": "1BVEA9dJovIr"
      },
      "execution_count": 1,
      "outputs": []
    },
    {
      "cell_type": "markdown",
      "source": [
        "Gli altri componenti necessari li installeremo man mano che serviranno"
      ],
      "metadata": {
        "id": "5Dv2WPZrrUx6"
      }
    },
    {
      "cell_type": "markdown",
      "source": [
        "## Caricamento dati"
      ],
      "metadata": {
        "id": "2FrvZVZfrtfe"
      }
    },
    {
      "cell_type": "markdown",
      "source": [
        "Definiamo la seguente funzione di supporto per scaricare i file di dati necessari"
      ],
      "metadata": {
        "id": "bxmB4xGfqUII"
      }
    },
    {
      "cell_type": "code",
      "source": [
        "import os\n",
        "from urllib.request import urlretrieve\n",
        "def download(file, url):\n",
        "    if not os.path.isfile(file):\n",
        "        urlretrieve(url, file)"
      ],
      "metadata": {
        "id": "1x30kGy8rP-X"
      },
      "execution_count": 2,
      "outputs": []
    },
    {
      "cell_type": "markdown",
      "source": [
        "Scarichiamo i due dataset"
      ],
      "metadata": {
        "id": "-ujq52BPr5Jn"
      }
    },
    {
      "cell_type": "code",
      "source": [
        "download(\"film_train.csv\", \"https://raw.githubusercontent.com/g-mainardi/app-data-intensive/main/film_train.csv\")\n",
        "download(\"film_test.csv\",  \"https://raw.githubusercontent.com/g-mainardi/app-data-intensive/main/film_test.csv\")"
      ],
      "metadata": {
        "id": "aUZJyaKZsJ36"
      },
      "execution_count": 26,
      "outputs": []
    },
    {
      "cell_type": "markdown",
      "source": [
        "###Estrai"
      ],
      "metadata": {
        "id": "v_r3WhN6FXog"
      }
    },
    {
      "cell_type": "markdown",
      "source": [
        "Importiamo la libreria Abstract Syntax Trees"
      ],
      "metadata": {
        "id": "Pj1pzgHR5r2k"
      }
    },
    {
      "cell_type": "code",
      "source": [
        "import ast\n",
        "dict_columns = ['belongs_to_collection', 'genres', 'production_companies',\n",
        "                'production_countries', 'spoken_languages', 'Keywords', 'cast', 'crew']\n",
        "def text_to_dict(df):\n",
        "    for column in dict_columns:\n",
        "        df[column] = df[column].apply(lambda x: {} if pd.isna(x) else ast.literal_eval(x) )\n",
        "    return df"
      ],
      "metadata": {
        "id": "WMcpETYi4-j4"
      },
      "execution_count": 27,
      "outputs": []
    },
    {
      "cell_type": "code",
      "source": [
        "train_df = text_to_dict(pd.read_csv(\"film_train.csv\", index_col=\"id\", parse_dates=[\"release_date\"]))\n",
        "test_df = text_to_dict(pd.read_csv(\"film_test.csv\", index_col=\"id\", parse_dates=[\"release_date\"]))"
      ],
      "metadata": {
        "id": "3LBo6XUl521A"
      },
      "execution_count": 28,
      "outputs": []
    },
    {
      "cell_type": "code",
      "source": [
        "train_df.shape, test_df.shape"
      ],
      "metadata": {
        "colab": {
          "base_uri": "https://localhost:8080/"
        },
        "id": "ugc8wlyN4uGz",
        "outputId": "545c75b8-026d-4d8a-d57a-743ac3510fc5"
      },
      "execution_count": 31,
      "outputs": [
        {
          "output_type": "execute_result",
          "data": {
            "text/plain": [
              "((3000, 22), (4398, 21))"
            ]
          },
          "metadata": {},
          "execution_count": 31
        }
      ]
    },
    {
      "cell_type": "markdown",
      "source": [
        "###Test"
      ],
      "metadata": {
        "id": "gLnwKea94uz0"
      }
    },
    {
      "cell_type": "code",
      "source": [
        "train_df[train_df.columns[(train_df.isna().sum()!=0)]]"
      ],
      "metadata": {
        "colab": {
          "base_uri": "https://localhost:8080/",
          "height": 455
        },
        "id": "4tPUu2nLfcwM",
        "outputId": "b87fca56-7ae6-462a-cf52-3b71898edb1c"
      },
      "execution_count": 29,
      "outputs": [
        {
          "output_type": "execute_result",
          "data": {
            "text/plain": [
              "                               homepage  \\\n",
              "id                                        \n",
              "1                                   NaN   \n",
              "2                                   NaN   \n",
              "3     http://sonyclassics.com/whiplash/   \n",
              "4            http://kahaanithefilm.com/   \n",
              "5                                   NaN   \n",
              "...                                 ...   \n",
              "2996                                NaN   \n",
              "2997                                NaN   \n",
              "2998                                NaN   \n",
              "2999     http://www.alongcamepolly.com/   \n",
              "3000   http://www.abductionthefilm.com/   \n",
              "\n",
              "                                               overview  \\\n",
              "id                                                        \n",
              "1     When Lou, who has become the \"father of the In...   \n",
              "2     Mia Thermopolis is now a college graduate and ...   \n",
              "3     Under the direction of a ruthless instructor, ...   \n",
              "4     Vidya Bagchi (Vidya Balan) arrives in Kolkata ...   \n",
              "5     Marine Boy is the story of a former national s...   \n",
              "...                                                 ...   \n",
              "2996  Military men Rock Reilly and Eddie Devane are ...   \n",
              "2997  Three girls in 1980s Stockholm decide to form ...   \n",
              "2998  Samantha Caine, suburban homemaker, is the ide...   \n",
              "2999  Reuben Feffer is a guy who's spent his entire ...   \n",
              "3000  A young man sets out to uncover the truth abou...   \n",
              "\n",
              "                           poster_path  runtime  \\\n",
              "id                                                \n",
              "1     /tQtWuwvMf0hCc2QR2tkolwl7c3c.jpg     93.0   \n",
              "2     /w9Z7A0GHEhIp7etpj0vyKOeU1Wx.jpg    113.0   \n",
              "3     /lIv1QinFqz4dlp5U4lQ6HaiskOZ.jpg    105.0   \n",
              "4     /aTXRaPrWSinhcmCrcfJK17urp3F.jpg    122.0   \n",
              "5     /m22s7zvkVFDU9ir56PiiqIEWFdT.jpg    118.0   \n",
              "...                                ...      ...   \n",
              "2996  /j8Q7pQ27hvH54wpxJzIuQgQCdro.jpg    102.0   \n",
              "2997  /sS01LSy6KDrCZAhtkO18UdnWFT1.jpg    102.0   \n",
              "2998  /4MENR8x6mYqnZvp2hGjSaPJz64J.jpg    120.0   \n",
              "2999  /nIY4kvJTTnxoBR0wycrXng5MOYs.jpg     90.0   \n",
              "3000  /cUT6NQP5LAJpmUoStGtXmvNt4zA.jpg    106.0   \n",
              "\n",
              "                                                tagline  \n",
              "id                                                       \n",
              "1     The Laws of Space and Time are About to be Vio...  \n",
              "2     It can take a lifetime to find true love; she'...  \n",
              "3       The road to greatness can take you to the edge.  \n",
              "4                                                   NaN  \n",
              "5                                                   NaN  \n",
              "...                                                 ...  \n",
              "2996  It was supposed to be a routine prisoner trans...  \n",
              "2997                                                NaN  \n",
              "2998               What's forgotten is not always gone.  \n",
              "2999  For the most cautious man on Earth, life is ab...  \n",
              "3000          They stole his life. He's taking it back.  \n",
              "\n",
              "[3000 rows x 5 columns]"
            ],
            "text/html": [
              "\n",
              "  <div id=\"df-12ef3a89-a28e-4924-8c5b-d78ae4ca79d8\" class=\"colab-df-container\">\n",
              "    <div>\n",
              "<style scoped>\n",
              "    .dataframe tbody tr th:only-of-type {\n",
              "        vertical-align: middle;\n",
              "    }\n",
              "\n",
              "    .dataframe tbody tr th {\n",
              "        vertical-align: top;\n",
              "    }\n",
              "\n",
              "    .dataframe thead th {\n",
              "        text-align: right;\n",
              "    }\n",
              "</style>\n",
              "<table border=\"1\" class=\"dataframe\">\n",
              "  <thead>\n",
              "    <tr style=\"text-align: right;\">\n",
              "      <th></th>\n",
              "      <th>homepage</th>\n",
              "      <th>overview</th>\n",
              "      <th>poster_path</th>\n",
              "      <th>runtime</th>\n",
              "      <th>tagline</th>\n",
              "    </tr>\n",
              "    <tr>\n",
              "      <th>id</th>\n",
              "      <th></th>\n",
              "      <th></th>\n",
              "      <th></th>\n",
              "      <th></th>\n",
              "      <th></th>\n",
              "    </tr>\n",
              "  </thead>\n",
              "  <tbody>\n",
              "    <tr>\n",
              "      <th>1</th>\n",
              "      <td>NaN</td>\n",
              "      <td>When Lou, who has become the \"father of the In...</td>\n",
              "      <td>/tQtWuwvMf0hCc2QR2tkolwl7c3c.jpg</td>\n",
              "      <td>93.0</td>\n",
              "      <td>The Laws of Space and Time are About to be Vio...</td>\n",
              "    </tr>\n",
              "    <tr>\n",
              "      <th>2</th>\n",
              "      <td>NaN</td>\n",
              "      <td>Mia Thermopolis is now a college graduate and ...</td>\n",
              "      <td>/w9Z7A0GHEhIp7etpj0vyKOeU1Wx.jpg</td>\n",
              "      <td>113.0</td>\n",
              "      <td>It can take a lifetime to find true love; she'...</td>\n",
              "    </tr>\n",
              "    <tr>\n",
              "      <th>3</th>\n",
              "      <td>http://sonyclassics.com/whiplash/</td>\n",
              "      <td>Under the direction of a ruthless instructor, ...</td>\n",
              "      <td>/lIv1QinFqz4dlp5U4lQ6HaiskOZ.jpg</td>\n",
              "      <td>105.0</td>\n",
              "      <td>The road to greatness can take you to the edge.</td>\n",
              "    </tr>\n",
              "    <tr>\n",
              "      <th>4</th>\n",
              "      <td>http://kahaanithefilm.com/</td>\n",
              "      <td>Vidya Bagchi (Vidya Balan) arrives in Kolkata ...</td>\n",
              "      <td>/aTXRaPrWSinhcmCrcfJK17urp3F.jpg</td>\n",
              "      <td>122.0</td>\n",
              "      <td>NaN</td>\n",
              "    </tr>\n",
              "    <tr>\n",
              "      <th>5</th>\n",
              "      <td>NaN</td>\n",
              "      <td>Marine Boy is the story of a former national s...</td>\n",
              "      <td>/m22s7zvkVFDU9ir56PiiqIEWFdT.jpg</td>\n",
              "      <td>118.0</td>\n",
              "      <td>NaN</td>\n",
              "    </tr>\n",
              "    <tr>\n",
              "      <th>...</th>\n",
              "      <td>...</td>\n",
              "      <td>...</td>\n",
              "      <td>...</td>\n",
              "      <td>...</td>\n",
              "      <td>...</td>\n",
              "    </tr>\n",
              "    <tr>\n",
              "      <th>2996</th>\n",
              "      <td>NaN</td>\n",
              "      <td>Military men Rock Reilly and Eddie Devane are ...</td>\n",
              "      <td>/j8Q7pQ27hvH54wpxJzIuQgQCdro.jpg</td>\n",
              "      <td>102.0</td>\n",
              "      <td>It was supposed to be a routine prisoner trans...</td>\n",
              "    </tr>\n",
              "    <tr>\n",
              "      <th>2997</th>\n",
              "      <td>NaN</td>\n",
              "      <td>Three girls in 1980s Stockholm decide to form ...</td>\n",
              "      <td>/sS01LSy6KDrCZAhtkO18UdnWFT1.jpg</td>\n",
              "      <td>102.0</td>\n",
              "      <td>NaN</td>\n",
              "    </tr>\n",
              "    <tr>\n",
              "      <th>2998</th>\n",
              "      <td>NaN</td>\n",
              "      <td>Samantha Caine, suburban homemaker, is the ide...</td>\n",
              "      <td>/4MENR8x6mYqnZvp2hGjSaPJz64J.jpg</td>\n",
              "      <td>120.0</td>\n",
              "      <td>What's forgotten is not always gone.</td>\n",
              "    </tr>\n",
              "    <tr>\n",
              "      <th>2999</th>\n",
              "      <td>http://www.alongcamepolly.com/</td>\n",
              "      <td>Reuben Feffer is a guy who's spent his entire ...</td>\n",
              "      <td>/nIY4kvJTTnxoBR0wycrXng5MOYs.jpg</td>\n",
              "      <td>90.0</td>\n",
              "      <td>For the most cautious man on Earth, life is ab...</td>\n",
              "    </tr>\n",
              "    <tr>\n",
              "      <th>3000</th>\n",
              "      <td>http://www.abductionthefilm.com/</td>\n",
              "      <td>A young man sets out to uncover the truth abou...</td>\n",
              "      <td>/cUT6NQP5LAJpmUoStGtXmvNt4zA.jpg</td>\n",
              "      <td>106.0</td>\n",
              "      <td>They stole his life. He's taking it back.</td>\n",
              "    </tr>\n",
              "  </tbody>\n",
              "</table>\n",
              "<p>3000 rows × 5 columns</p>\n",
              "</div>\n",
              "    <div class=\"colab-df-buttons\">\n",
              "\n",
              "  <div class=\"colab-df-container\">\n",
              "    <button class=\"colab-df-convert\" onclick=\"convertToInteractive('df-12ef3a89-a28e-4924-8c5b-d78ae4ca79d8')\"\n",
              "            title=\"Convert this dataframe to an interactive table.\"\n",
              "            style=\"display:none;\">\n",
              "\n",
              "  <svg xmlns=\"http://www.w3.org/2000/svg\" height=\"24px\" viewBox=\"0 -960 960 960\">\n",
              "    <path d=\"M120-120v-720h720v720H120Zm60-500h600v-160H180v160Zm220 220h160v-160H400v160Zm0 220h160v-160H400v160ZM180-400h160v-160H180v160Zm440 0h160v-160H620v160ZM180-180h160v-160H180v160Zm440 0h160v-160H620v160Z\"/>\n",
              "  </svg>\n",
              "    </button>\n",
              "\n",
              "  <style>\n",
              "    .colab-df-container {\n",
              "      display:flex;\n",
              "      gap: 12px;\n",
              "    }\n",
              "\n",
              "    .colab-df-convert {\n",
              "      background-color: #E8F0FE;\n",
              "      border: none;\n",
              "      border-radius: 50%;\n",
              "      cursor: pointer;\n",
              "      display: none;\n",
              "      fill: #1967D2;\n",
              "      height: 32px;\n",
              "      padding: 0 0 0 0;\n",
              "      width: 32px;\n",
              "    }\n",
              "\n",
              "    .colab-df-convert:hover {\n",
              "      background-color: #E2EBFA;\n",
              "      box-shadow: 0px 1px 2px rgba(60, 64, 67, 0.3), 0px 1px 3px 1px rgba(60, 64, 67, 0.15);\n",
              "      fill: #174EA6;\n",
              "    }\n",
              "\n",
              "    .colab-df-buttons div {\n",
              "      margin-bottom: 4px;\n",
              "    }\n",
              "\n",
              "    [theme=dark] .colab-df-convert {\n",
              "      background-color: #3B4455;\n",
              "      fill: #D2E3FC;\n",
              "    }\n",
              "\n",
              "    [theme=dark] .colab-df-convert:hover {\n",
              "      background-color: #434B5C;\n",
              "      box-shadow: 0px 1px 3px 1px rgba(0, 0, 0, 0.15);\n",
              "      filter: drop-shadow(0px 1px 2px rgba(0, 0, 0, 0.3));\n",
              "      fill: #FFFFFF;\n",
              "    }\n",
              "  </style>\n",
              "\n",
              "    <script>\n",
              "      const buttonEl =\n",
              "        document.querySelector('#df-12ef3a89-a28e-4924-8c5b-d78ae4ca79d8 button.colab-df-convert');\n",
              "      buttonEl.style.display =\n",
              "        google.colab.kernel.accessAllowed ? 'block' : 'none';\n",
              "\n",
              "      async function convertToInteractive(key) {\n",
              "        const element = document.querySelector('#df-12ef3a89-a28e-4924-8c5b-d78ae4ca79d8');\n",
              "        const dataTable =\n",
              "          await google.colab.kernel.invokeFunction('convertToInteractive',\n",
              "                                                    [key], {});\n",
              "        if (!dataTable) return;\n",
              "\n",
              "        const docLinkHtml = 'Like what you see? Visit the ' +\n",
              "          '<a target=\"_blank\" href=https://colab.research.google.com/notebooks/data_table.ipynb>data table notebook</a>'\n",
              "          + ' to learn more about interactive tables.';\n",
              "        element.innerHTML = '';\n",
              "        dataTable['output_type'] = 'display_data';\n",
              "        await google.colab.output.renderOutput(dataTable, element);\n",
              "        const docLink = document.createElement('div');\n",
              "        docLink.innerHTML = docLinkHtml;\n",
              "        element.appendChild(docLink);\n",
              "      }\n",
              "    </script>\n",
              "  </div>\n",
              "\n",
              "\n",
              "<div id=\"df-5e1a678d-6684-49eb-81ed-75a5b66bc7b9\">\n",
              "  <button class=\"colab-df-quickchart\" onclick=\"quickchart('df-5e1a678d-6684-49eb-81ed-75a5b66bc7b9')\"\n",
              "            title=\"Suggest charts\"\n",
              "            style=\"display:none;\">\n",
              "\n",
              "<svg xmlns=\"http://www.w3.org/2000/svg\" height=\"24px\"viewBox=\"0 0 24 24\"\n",
              "     width=\"24px\">\n",
              "    <g>\n",
              "        <path d=\"M19 3H5c-1.1 0-2 .9-2 2v14c0 1.1.9 2 2 2h14c1.1 0 2-.9 2-2V5c0-1.1-.9-2-2-2zM9 17H7v-7h2v7zm4 0h-2V7h2v10zm4 0h-2v-4h2v4z\"/>\n",
              "    </g>\n",
              "</svg>\n",
              "  </button>\n",
              "\n",
              "<style>\n",
              "  .colab-df-quickchart {\n",
              "      --bg-color: #E8F0FE;\n",
              "      --fill-color: #1967D2;\n",
              "      --hover-bg-color: #E2EBFA;\n",
              "      --hover-fill-color: #174EA6;\n",
              "      --disabled-fill-color: #AAA;\n",
              "      --disabled-bg-color: #DDD;\n",
              "  }\n",
              "\n",
              "  [theme=dark] .colab-df-quickchart {\n",
              "      --bg-color: #3B4455;\n",
              "      --fill-color: #D2E3FC;\n",
              "      --hover-bg-color: #434B5C;\n",
              "      --hover-fill-color: #FFFFFF;\n",
              "      --disabled-bg-color: #3B4455;\n",
              "      --disabled-fill-color: #666;\n",
              "  }\n",
              "\n",
              "  .colab-df-quickchart {\n",
              "    background-color: var(--bg-color);\n",
              "    border: none;\n",
              "    border-radius: 50%;\n",
              "    cursor: pointer;\n",
              "    display: none;\n",
              "    fill: var(--fill-color);\n",
              "    height: 32px;\n",
              "    padding: 0;\n",
              "    width: 32px;\n",
              "  }\n",
              "\n",
              "  .colab-df-quickchart:hover {\n",
              "    background-color: var(--hover-bg-color);\n",
              "    box-shadow: 0 1px 2px rgba(60, 64, 67, 0.3), 0 1px 3px 1px rgba(60, 64, 67, 0.15);\n",
              "    fill: var(--button-hover-fill-color);\n",
              "  }\n",
              "\n",
              "  .colab-df-quickchart-complete:disabled,\n",
              "  .colab-df-quickchart-complete:disabled:hover {\n",
              "    background-color: var(--disabled-bg-color);\n",
              "    fill: var(--disabled-fill-color);\n",
              "    box-shadow: none;\n",
              "  }\n",
              "\n",
              "  .colab-df-spinner {\n",
              "    border: 2px solid var(--fill-color);\n",
              "    border-color: transparent;\n",
              "    border-bottom-color: var(--fill-color);\n",
              "    animation:\n",
              "      spin 1s steps(1) infinite;\n",
              "  }\n",
              "\n",
              "  @keyframes spin {\n",
              "    0% {\n",
              "      border-color: transparent;\n",
              "      border-bottom-color: var(--fill-color);\n",
              "      border-left-color: var(--fill-color);\n",
              "    }\n",
              "    20% {\n",
              "      border-color: transparent;\n",
              "      border-left-color: var(--fill-color);\n",
              "      border-top-color: var(--fill-color);\n",
              "    }\n",
              "    30% {\n",
              "      border-color: transparent;\n",
              "      border-left-color: var(--fill-color);\n",
              "      border-top-color: var(--fill-color);\n",
              "      border-right-color: var(--fill-color);\n",
              "    }\n",
              "    40% {\n",
              "      border-color: transparent;\n",
              "      border-right-color: var(--fill-color);\n",
              "      border-top-color: var(--fill-color);\n",
              "    }\n",
              "    60% {\n",
              "      border-color: transparent;\n",
              "      border-right-color: var(--fill-color);\n",
              "    }\n",
              "    80% {\n",
              "      border-color: transparent;\n",
              "      border-right-color: var(--fill-color);\n",
              "      border-bottom-color: var(--fill-color);\n",
              "    }\n",
              "    90% {\n",
              "      border-color: transparent;\n",
              "      border-bottom-color: var(--fill-color);\n",
              "    }\n",
              "  }\n",
              "</style>\n",
              "\n",
              "  <script>\n",
              "    async function quickchart(key) {\n",
              "      const quickchartButtonEl =\n",
              "        document.querySelector('#' + key + ' button');\n",
              "      quickchartButtonEl.disabled = true;  // To prevent multiple clicks.\n",
              "      quickchartButtonEl.classList.add('colab-df-spinner');\n",
              "      try {\n",
              "        const charts = await google.colab.kernel.invokeFunction(\n",
              "            'suggestCharts', [key], {});\n",
              "      } catch (error) {\n",
              "        console.error('Error during call to suggestCharts:', error);\n",
              "      }\n",
              "      quickchartButtonEl.classList.remove('colab-df-spinner');\n",
              "      quickchartButtonEl.classList.add('colab-df-quickchart-complete');\n",
              "    }\n",
              "    (() => {\n",
              "      let quickchartButtonEl =\n",
              "        document.querySelector('#df-5e1a678d-6684-49eb-81ed-75a5b66bc7b9 button');\n",
              "      quickchartButtonEl.style.display =\n",
              "        google.colab.kernel.accessAllowed ? 'block' : 'none';\n",
              "    })();\n",
              "  </script>\n",
              "</div>\n",
              "    </div>\n",
              "  </div>\n"
            ]
          },
          "metadata": {},
          "execution_count": 29
        }
      ]
    },
    {
      "cell_type": "code",
      "source": [
        "train_df[train_df[\"runtime\"].isna()][\"original_title\"]"
      ],
      "metadata": {
        "colab": {
          "base_uri": "https://localhost:8080/"
        },
        "id": "5q3OiCezmMfZ",
        "outputId": "171cfb13-79be-47bc-de76-e6c90c0b3436"
      },
      "execution_count": null,
      "outputs": [
        {
          "output_type": "execute_result",
          "data": {
            "text/plain": [
              "id\n",
              "1336          Королёв\n",
              "2303    Happy Weekend\n",
              "Name: original_title, dtype: object"
            ]
          },
          "metadata": {},
          "execution_count": 172
        }
      ]
    },
    {
      "cell_type": "code",
      "source": [
        "vuoto = train_df[\"belongs_to_collection\"].iloc[2]\n",
        "train_df[train_df[\"belongs_to_collection\"]!=vuoto].count()"
      ],
      "metadata": {
        "colab": {
          "base_uri": "https://localhost:8080/"
        },
        "id": "rEpQoRxziWEK",
        "outputId": "3a3a8430-e446-429b-b82b-65a0e929ded7"
      },
      "execution_count": null,
      "outputs": [
        {
          "output_type": "execute_result",
          "data": {
            "text/plain": [
              "belongs_to_collection    604\n",
              "budget                   604\n",
              "genres                   604\n",
              "homepage                 224\n",
              "imdb_id                  604\n",
              "original_language        604\n",
              "original_title           604\n",
              "overview                 603\n",
              "popularity               604\n",
              "poster_path              604\n",
              "production_companies     604\n",
              "production_countries     604\n",
              "release_date             604\n",
              "runtime                  604\n",
              "spoken_languages         604\n",
              "status                   604\n",
              "tagline                  538\n",
              "title                    604\n",
              "Keywords                 604\n",
              "cast                     604\n",
              "crew                     604\n",
              "revenue                  604\n",
              "dtype: int64"
            ]
          },
          "metadata": {},
          "execution_count": 173
        }
      ]
    }
  ]
}